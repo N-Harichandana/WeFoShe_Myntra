{
 "cells": [
  {
   "cell_type": "code",
   "execution_count": 18,
   "metadata": {},
   "outputs": [
    {
     "name": "stdout",
     "output_type": "stream",
     "text": [
      "1/1 [==============================] - 1s 1s/step\n",
      "Image loaded successfully from D:\\test_myntra\\myntra_env\\myntra_data\\my_prog\\queen_of_tears\\es2.productserve (70).jpg.\n",
      "Image loaded successfully from D:\\test_myntra\\myntra_env\\myntra_data\\my_prog\\queen_of_tears\\1_99-99999999_01 (1).jpg.\n",
      "Image loaded successfully from D:\\test_myntra\\myntra_env\\myntra_data\\my_prog\\queen_of_tears\\3_99-99999999_01.jpg.\n",
      "Image loaded successfully from D:\\test_myntra\\myntra_env\\myntra_data\\my_prog\\queen_of_tears\\1_99-99999999_01.jpg.\n",
      "Image loaded successfully from D:\\test_myntra\\myntra_env\\myntra_data\\my_prog\\queen_of_tears\\es2.productserve (77).jpg.\n"
     ]
    }
   ],
   "source": [
    "import pickle\n",
    "import tensorflow\n",
    "import numpy as np\n",
    "from numpy.linalg import norm\n",
    "from tensorflow.keras.preprocessing import image\n",
    "from tensorflow.keras.layers import GlobalMaxPooling2D\n",
    "from tensorflow.keras.applications.resnet50 import ResNet50,preprocess_input\n",
    "from sklearn.neighbors import NearestNeighbors\n",
    "import cv2\n",
    "\n",
    "feature_list = np.array(pickle.load(open('embeddings.pkl','rb')))\n",
    "filenames = pickle.load(open('filenames.pkl','rb'))\n",
    "\n",
    "model = ResNet50(weights='imagenet',include_top=False,input_shape=(224,224,3))\n",
    "model.trainable = False\n",
    "\n",
    "model = tensorflow.keras.Sequential([\n",
    "    model,\n",
    "    GlobalMaxPooling2D()\n",
    "])\n",
    "\n",
    "img = image.load_img('D:\\\\test_myntra\\myntra_env\\myntra_data\\my_prog\\\\black-twopiece-haein.jpg',target_size=(224,224))\n",
    "img_array = image.img_to_array(img)\n",
    "expanded_img_array = np.expand_dims(img_array, axis=0)\n",
    "preprocessed_img = preprocess_input(expanded_img_array)\n",
    "result = model.predict(preprocessed_img).flatten()\n",
    "normalized_result = result / norm(result)\n",
    "\n",
    "neighbors = NearestNeighbors(n_neighbors=6,algorithm='brute',metric='euclidean')\n",
    "neighbors.fit(feature_list)\n",
    "\n",
    "distances,indices = neighbors.kneighbors([normalized_result])\n",
    "\n",
    "\n",
    "\n",
    "for file in indices[0][1:6]:\n",
    "    temp_img = cv2.imread(filenames[file])\n",
    "    if temp_img is None:\n",
    "        print(f\"Error: Image at {filenames[file]} could not be loaded.\")\n",
    "    else:\n",
    "        print(f\"Image loaded successfully from {filenames[file]}.\")\n",
    "    cv2.imshow('output',cv2.resize(temp_img,(512,512)))\n",
    "    cv2.waitKey(0)\n",
    "\n",
    "cv2.destroyAllWindows()\n"
   ]
  },
  {
   "cell_type": "code",
   "execution_count": null,
   "metadata": {},
   "outputs": [],
   "source": []
  },
  {
   "cell_type": "code",
   "execution_count": null,
   "metadata": {},
   "outputs": [],
   "source": []
  }
 ],
 "metadata": {
  "language_info": {
   "name": "python"
  }
 },
 "nbformat": 4,
 "nbformat_minor": 2
}
